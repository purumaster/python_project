{
 "cells": [
  {
   "cell_type": "code",
   "execution_count": 2,
   "metadata": {
    "scrolled": true
   },
   "outputs": [
    {
     "data": {
      "text/plain": [
       "'C:\\\\Users\\\\makim'"
      ]
     },
     "execution_count": 2,
     "metadata": {},
     "output_type": "execute_result"
    }
   ],
   "source": [
    "import pandas as pd\n",
    "import sqlite3\n",
    "import os\n",
    "os.getcwd()\n"
   ]
  },
  {
   "cell_type": "code",
   "execution_count": 5,
   "metadata": {
    "scrolled": true
   },
   "outputs": [
    {
     "name": "stderr",
     "output_type": "stream",
     "text": [
      "C:\\Users\\makim\\Anaconda3\\lib\\site-packages\\pandas\\core\\generic.py:2712: UserWarning: The spaces in these column names will not be changed. In pandas versions < 0.14, spaces were converted to underscores.\n",
      "  method=method,\n"
     ]
    },
    {
     "data": {
      "text/html": [
       "<div>\n",
       "<style scoped>\n",
       "    .dataframe tbody tr th:only-of-type {\n",
       "        vertical-align: middle;\n",
       "    }\n",
       "\n",
       "    .dataframe tbody tr th {\n",
       "        vertical-align: top;\n",
       "    }\n",
       "\n",
       "    .dataframe thead th {\n",
       "        text-align: right;\n",
       "    }\n",
       "</style>\n",
       "<table border=\"1\" class=\"dataframe\">\n",
       "  <thead>\n",
       "    <tr style=\"text-align: right;\">\n",
       "      <th></th>\n",
       "      <th>index</th>\n",
       "      <th>date</th>\n",
       "      <th>condition</th>\n",
       "      <th>high_temp (° F)</th>\n",
       "      <th>low_temp (° F)</th>\n",
       "      <th>day_length</th>\n",
       "      <th>sun_rise</th>\n",
       "      <th>sun_set</th>\n",
       "    </tr>\n",
       "  </thead>\n",
       "  <tbody>\n",
       "    <tr>\n",
       "      <td>0</td>\n",
       "      <td>0</td>\n",
       "      <td>Oct 21st 2019</td>\n",
       "      <td>Cloudy</td>\n",
       "      <td>61</td>\n",
       "      <td>54</td>\n",
       "      <td>11h 7m</td>\n",
       "      <td>5:52 AM</td>\n",
       "      <td>5:00 PM</td>\n",
       "    </tr>\n",
       "    <tr>\n",
       "      <td>1</td>\n",
       "      <td>1</td>\n",
       "      <td>Oct 22nd 2019</td>\n",
       "      <td>Rain</td>\n",
       "      <td>64</td>\n",
       "      <td>59</td>\n",
       "      <td>11h 5m</td>\n",
       "      <td>5:53 AM</td>\n",
       "      <td>4:59 PM</td>\n",
       "    </tr>\n",
       "    <tr>\n",
       "      <td>2</td>\n",
       "      <td>2</td>\n",
       "      <td>Oct 23rd 2019</td>\n",
       "      <td>Fair</td>\n",
       "      <td>63</td>\n",
       "      <td>54</td>\n",
       "      <td>11h 3m</td>\n",
       "      <td>5:54 AM</td>\n",
       "      <td>4:58 PM</td>\n",
       "    </tr>\n",
       "  </tbody>\n",
       "</table>\n",
       "</div>"
      ],
      "text/plain": [
       "   index           date condition  high_temp (° F)  low_temp (° F) day_length  \\\n",
       "0      0  Oct 21st 2019    Cloudy               61              54     11h 7m   \n",
       "1      1  Oct 22nd 2019      Rain               64              59     11h 5m   \n",
       "2      2  Oct 23rd 2019      Fair               63              54     11h 3m   \n",
       "\n",
       "  sun_rise  sun_set  \n",
       "0  5:52 AM  5:00 PM  \n",
       "1  5:53 AM  4:59 PM  \n",
       "2  5:54 AM  4:58 PM  "
      ]
     },
     "execution_count": 5,
     "metadata": {},
     "output_type": "execute_result"
    }
   ],
   "source": [
    "df1 = pd.read_csv(\"Python_project\\WeatherInTokyo.csv\")\n",
    "df1.head(20)\n",
    "\n",
    "# create the sqlite DB\n",
    "db = sqlite3.connect(\"WeatherTokyo.db\")\n",
    "\n",
    "# convert the pandas dataframe to a sqlite table\n",
    "df1.to_sql(\"weather\", db, if_exists=\"replace\")\n",
    "\n",
    "# view dataframe\n",
    "# df1\n",
    "query = ''' \n",
    "SELECT * \n",
    "FROM weather\n",
    "LIMIT 3'''\n",
    "pd.read_sql_query(query,db)\n"
   ]
  },
  {
   "cell_type": "code",
   "execution_count": 12,
   "metadata": {},
   "outputs": [
    {
     "data": {
      "text/html": [
       "<div>\n",
       "<style scoped>\n",
       "    .dataframe tbody tr th:only-of-type {\n",
       "        vertical-align: middle;\n",
       "    }\n",
       "\n",
       "    .dataframe tbody tr th {\n",
       "        vertical-align: top;\n",
       "    }\n",
       "\n",
       "    .dataframe thead th {\n",
       "        text-align: right;\n",
       "    }\n",
       "</style>\n",
       "<table border=\"1\" class=\"dataframe\">\n",
       "  <thead>\n",
       "    <tr style=\"text-align: right;\">\n",
       "      <th></th>\n",
       "      <th>index</th>\n",
       "      <th>date</th>\n",
       "      <th>condition</th>\n",
       "      <th>high_temp (° F)</th>\n",
       "      <th>low_temp (° F)</th>\n",
       "      <th>day_length</th>\n",
       "      <th>sun_rise</th>\n",
       "      <th>sun_set</th>\n",
       "    </tr>\n",
       "  </thead>\n",
       "  <tbody>\n",
       "    <tr>\n",
       "      <td>0</td>\n",
       "      <td>0</td>\n",
       "      <td>Oct 21st 2019</td>\n",
       "      <td>Cloudy</td>\n",
       "      <td>61</td>\n",
       "      <td>54</td>\n",
       "      <td>11h 7m</td>\n",
       "      <td>5:52 AM</td>\n",
       "      <td>5:00 PM</td>\n",
       "    </tr>\n",
       "    <tr>\n",
       "      <td>1</td>\n",
       "      <td>2</td>\n",
       "      <td>Oct 23rd 2019</td>\n",
       "      <td>Fair</td>\n",
       "      <td>63</td>\n",
       "      <td>54</td>\n",
       "      <td>11h 3m</td>\n",
       "      <td>5:54 AM</td>\n",
       "      <td>4:58 PM</td>\n",
       "    </tr>\n",
       "    <tr>\n",
       "      <td>2</td>\n",
       "      <td>4</td>\n",
       "      <td>Oct 25th 2019</td>\n",
       "      <td>Rain</td>\n",
       "      <td>63</td>\n",
       "      <td>57</td>\n",
       "      <td>10h 59m</td>\n",
       "      <td>5:56 AM</td>\n",
       "      <td>4:55 PM</td>\n",
       "    </tr>\n",
       "  </tbody>\n",
       "</table>\n",
       "</div>"
      ],
      "text/plain": [
       "   index           date condition  high_temp (° F)  low_temp (° F) day_length  \\\n",
       "0      0  Oct 21st 2019    Cloudy               61              54     11h 7m   \n",
       "1      2  Oct 23rd 2019      Fair               63              54     11h 3m   \n",
       "2      4  Oct 25th 2019      Rain               63              57    10h 59m   \n",
       "\n",
       "  sun_rise  sun_set  \n",
       "0  5:52 AM  5:00 PM  \n",
       "1  5:54 AM  4:58 PM  \n",
       "2  5:56 AM  4:55 PM  "
      ]
     },
     "execution_count": 12,
     "metadata": {},
     "output_type": "execute_result"
    }
   ],
   "source": [
    "query = '''\n",
    "SELECT * \n",
    "FROM weather\n",
    "WHERE \"high_temp (° F)\" <= 63;\n",
    "\n",
    "'''\n",
    "\n",
    "pd.read_sql_query(query,db)"
   ]
  },
  {
   "cell_type": "code",
   "execution_count": null,
   "metadata": {},
   "outputs": [],
   "source": []
  },
  {
   "cell_type": "code",
   "execution_count": null,
   "metadata": {},
   "outputs": [],
   "source": []
  }
 ],
 "metadata": {
  "kernelspec": {
   "display_name": "Python 3",
   "language": "python",
   "name": "python3"
  },
  "language_info": {
   "codemirror_mode": {
    "name": "ipython",
    "version": 3
   },
   "file_extension": ".py",
   "mimetype": "text/x-python",
   "name": "python",
   "nbconvert_exporter": "python",
   "pygments_lexer": "ipython3",
   "version": "3.7.4"
  }
 },
 "nbformat": 4,
 "nbformat_minor": 2
}
