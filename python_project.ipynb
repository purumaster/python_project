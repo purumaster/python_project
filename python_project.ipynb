{
 "cells": [
  {
   "cell_type": "code",
   "execution_count": 1,
   "metadata": {},
   "outputs": [
    {
     "data": {
      "text/plain": [
       "'C:\\\\Users\\\\makim\\\\Python_project'"
      ]
     },
     "execution_count": 1,
     "metadata": {},
     "output_type": "execute_result"
    }
   ],
   "source": [
    "import pandas as pd\n",
    "import os\n",
    "os.getcwd()\n"
   ]
  },
  {
   "cell_type": "code",
   "execution_count": 2,
   "metadata": {},
   "outputs": [
    {
     "name": "stdout",
     "output_type": "stream",
     "text": [
      "            date condition  high_temp (° F)  low_temp (° F) day_length  \\\n",
      "0  Oct 21st 2019    Cloudy               61              54     11h 7m   \n",
      "1  Oct 22nd 2019      Rain               64              59     11h 5m   \n",
      "2  Oct 23rd 2019      Fair               63              54     11h 3m   \n",
      "3  Oct 24th 2019    Cloudy               70              63     11h 1m   \n",
      "4  Oct 25th 2019      Rain               63              57    10h 59m   \n",
      "5  Oct 26th 2019    Cloudy               64              55    10h 57m   \n",
      "6  Oct 27th 2019    Cloudy               64              55    10h 55m   \n",
      "\n",
      "  sun_rise  sun_set  \n",
      "0  5:52 AM  5:00 PM  \n",
      "1  5:53 AM  4:59 PM  \n",
      "2  5:54 AM  4:58 PM  \n",
      "3  5:55 AM  4:57 PM  \n",
      "4  5:56 AM  4:55 PM  \n",
      "5  5:57 AM  4:54 PM  \n",
      "6  5:58 AM  4:53 PM  \n"
     ]
    }
   ],
   "source": [
    "df1 = pd.read_csv(\"WeatherInTokyo.csv\")\n",
    "print(df1)\n",
    "\n"
   ]
  },
  {
   "cell_type": "code",
   "execution_count": null,
   "metadata": {},
   "outputs": [],
   "source": []
  }
 ],
 "metadata": {
  "kernelspec": {
   "display_name": "Python 3",
   "language": "python",
   "name": "python3"
  },
  "language_info": {
   "codemirror_mode": {
    "name": "ipython",
    "version": 3
   },
   "file_extension": ".py",
   "mimetype": "text/x-python",
   "name": "python",
   "nbconvert_exporter": "python",
   "pygments_lexer": "ipython3",
   "version": "3.7.4"
  }
 },
 "nbformat": 4,
 "nbformat_minor": 2
}
